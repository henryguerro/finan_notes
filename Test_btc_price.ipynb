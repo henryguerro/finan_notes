{
 "cells": [
  {
   "cell_type": "code",
   "execution_count": 1,
   "metadata": {
    "collapsed": false
   },
   "outputs": [],
   "source": [
    "import csv\n",
    "import numpy as np\n",
    "from sklearn.svm import SVR\n",
    "import matplotlib.pyplot as plt\n",
    "import pandas as pd\n",
    "from stockstats import StockDataFrame"
   ]
  },
  {
   "cell_type": "code",
   "execution_count": 2,
   "metadata": {
    "collapsed": false
   },
   "outputs": [],
   "source": [
    "pd.options.mode.chained_assignment = None\n",
    "%matplotlib inline"
   ]
  },
  {
   "cell_type": "code",
   "execution_count": 3,
   "metadata": {
    "collapsed": false
   },
   "outputs": [],
   "source": [
    "data = pd.read_csv('ohlc-2012-12-31_2018-04-04.csv',sep=',', quoting=csv.QUOTE_ALL)"
   ]
  },
  {
   "cell_type": "code",
   "execution_count": 4,
   "metadata": {
    "collapsed": false
   },
   "outputs": [
    {
     "data": {
      "text/html": [
       "<div>\n",
       "<style>\n",
       "    .dataframe thead tr:only-child th {\n",
       "        text-align: right;\n",
       "    }\n",
       "\n",
       "    .dataframe thead th {\n",
       "        text-align: left;\n",
       "    }\n",
       "\n",
       "    .dataframe tbody tr th {\n",
       "        vertical-align: top;\n",
       "    }\n",
       "</style>\n",
       "<table border=\"1\" class=\"dataframe\">\n",
       "  <thead>\n",
       "    <tr style=\"text-align: right;\">\n",
       "      <th></th>\n",
       "      <th>Date</th>\n",
       "      <th>Open</th>\n",
       "      <th>High</th>\n",
       "      <th>Low</th>\n",
       "      <th>Close</th>\n",
       "    </tr>\n",
       "  </thead>\n",
       "  <tbody>\n",
       "    <tr>\n",
       "      <th>0</th>\n",
       "      <td>2012-12-31 00:00:00</td>\n",
       "      <td>13.45</td>\n",
       "      <td>13.56</td>\n",
       "      <td>13.37</td>\n",
       "      <td>13.51</td>\n",
       "    </tr>\n",
       "    <tr>\n",
       "      <th>1</th>\n",
       "      <td>2013-01-01 00:00:00</td>\n",
       "      <td>13.51</td>\n",
       "      <td>13.56</td>\n",
       "      <td>13.16</td>\n",
       "      <td>13.30</td>\n",
       "    </tr>\n",
       "    <tr>\n",
       "      <th>2</th>\n",
       "      <td>2013-01-02 00:00:00</td>\n",
       "      <td>13.30</td>\n",
       "      <td>13.40</td>\n",
       "      <td>13.16</td>\n",
       "      <td>13.28</td>\n",
       "    </tr>\n",
       "    <tr>\n",
       "      <th>3</th>\n",
       "      <td>2013-01-03 00:00:00</td>\n",
       "      <td>13.28</td>\n",
       "      <td>13.46</td>\n",
       "      <td>13.25</td>\n",
       "      <td>13.40</td>\n",
       "    </tr>\n",
       "    <tr>\n",
       "      <th>4</th>\n",
       "      <td>2013-01-04 00:00:00</td>\n",
       "      <td>13.40</td>\n",
       "      <td>13.52</td>\n",
       "      <td>13.27</td>\n",
       "      <td>13.50</td>\n",
       "    </tr>\n",
       "  </tbody>\n",
       "</table>\n",
       "</div>"
      ],
      "text/plain": [
       "                  Date   Open   High    Low  Close\n",
       "0  2012-12-31 00:00:00  13.45  13.56  13.37  13.51\n",
       "1  2013-01-01 00:00:00  13.51  13.56  13.16  13.30\n",
       "2  2013-01-02 00:00:00  13.30  13.40  13.16  13.28\n",
       "3  2013-01-03 00:00:00  13.28  13.46  13.25  13.40\n",
       "4  2013-01-04 00:00:00  13.40  13.52  13.27  13.50"
      ]
     },
     "execution_count": 4,
     "metadata": {},
     "output_type": "execute_result"
    }
   ],
   "source": [
    "data.head()"
   ]
  },
  {
   "cell_type": "markdown",
   "metadata": {},
   "source": [
    "### Filter Dataset"
   ]
  },
  {
   "cell_type": "code",
   "execution_count": 5,
   "metadata": {
    "collapsed": false
   },
   "outputs": [],
   "source": [
    "data = data.dropna()\n",
    "data['Date'] = pd.to_datetime(data['Date'], format=\"%Y-%m-%d\")"
   ]
  },
  {
   "cell_type": "code",
   "execution_count": 6,
   "metadata": {
    "collapsed": false
   },
   "outputs": [
    {
     "data": {
      "text/html": [
       "<div>\n",
       "<style>\n",
       "    .dataframe thead tr:only-child th {\n",
       "        text-align: right;\n",
       "    }\n",
       "\n",
       "    .dataframe thead th {\n",
       "        text-align: left;\n",
       "    }\n",
       "\n",
       "    .dataframe tbody tr th {\n",
       "        vertical-align: top;\n",
       "    }\n",
       "</style>\n",
       "<table border=\"1\" class=\"dataframe\">\n",
       "  <thead>\n",
       "    <tr style=\"text-align: right;\">\n",
       "      <th></th>\n",
       "      <th>Date</th>\n",
       "      <th>Open</th>\n",
       "      <th>High</th>\n",
       "      <th>Low</th>\n",
       "      <th>Close</th>\n",
       "    </tr>\n",
       "  </thead>\n",
       "  <tbody>\n",
       "    <tr>\n",
       "      <th>1916</th>\n",
       "      <td>2018-03-31</td>\n",
       "      <td>6844.32</td>\n",
       "      <td>7213.50</td>\n",
       "      <td>6796.82</td>\n",
       "      <td>6926.02</td>\n",
       "    </tr>\n",
       "    <tr>\n",
       "      <th>1917</th>\n",
       "      <td>2018-04-01</td>\n",
       "      <td>6926.02</td>\n",
       "      <td>7034.93</td>\n",
       "      <td>6443.20</td>\n",
       "      <td>6816.74</td>\n",
       "    </tr>\n",
       "    <tr>\n",
       "      <th>1918</th>\n",
       "      <td>2018-04-02</td>\n",
       "      <td>6816.74</td>\n",
       "      <td>7108.20</td>\n",
       "      <td>6775.71</td>\n",
       "      <td>7049.79</td>\n",
       "    </tr>\n",
       "    <tr>\n",
       "      <th>1919</th>\n",
       "      <td>2018-04-03</td>\n",
       "      <td>7049.79</td>\n",
       "      <td>7506.68</td>\n",
       "      <td>7022.99</td>\n",
       "      <td>7417.89</td>\n",
       "    </tr>\n",
       "    <tr>\n",
       "      <th>1920</th>\n",
       "      <td>2018-04-04</td>\n",
       "      <td>7417.89</td>\n",
       "      <td>7419.80</td>\n",
       "      <td>6715.56</td>\n",
       "      <td>6789.30</td>\n",
       "    </tr>\n",
       "  </tbody>\n",
       "</table>\n",
       "</div>"
      ],
      "text/plain": [
       "           Date     Open     High      Low    Close\n",
       "1916 2018-03-31  6844.32  7213.50  6796.82  6926.02\n",
       "1917 2018-04-01  6926.02  7034.93  6443.20  6816.74\n",
       "1918 2018-04-02  6816.74  7108.20  6775.71  7049.79\n",
       "1919 2018-04-03  7049.79  7506.68  7022.99  7417.89\n",
       "1920 2018-04-04  7417.89  7419.80  6715.56  6789.30"
      ]
     },
     "execution_count": 6,
     "metadata": {},
     "output_type": "execute_result"
    }
   ],
   "source": [
    "data_to_predict = data\n",
    "data = data[(data['Date'] < '2018-04-05')]\n",
    "data = data.sort_values(by='Date') \n",
    "data.tail()"
   ]
  },
  {
   "cell_type": "markdown",
   "metadata": {},
   "source": [
    "### Way without stockDataFrame"
   ]
  },
  {
   "cell_type": "code",
   "execution_count": 7,
   "metadata": {
    "collapsed": true
   },
   "outputs": [],
   "source": [
    "#dataset['H-L'] = dataset['High'] - dataset['Low']\n",
    "#dataset['O-C'] = dataset['Close'] - dataset['Open']\n",
    "#dataset['3day MA'] = dataset['Close'].shift(1).rolling(window = 3).mean()\n",
    "#dataset['7day MA'] = dataset['Close'].shift(1).rolling(window = 7).mean()\n",
    "#dataset['30day MA'] = dataset['Close'].shift(1).rolling(window = 30).mean()\n",
    "#dataset['Std_dev']= dataset['Close'].rolling(5).std()\n",
    "#dataset['RSI'] = talib.RSI(dataset['Close'].values, timeperiod = 9)\n",
    "#dataset['Williams %R'] = talib.WILLR(dataset['High'].values, dataset['Low'].values, dataset['Close'].values, 7)"
   ]
  },
  {
   "cell_type": "code",
   "execution_count": 8,
   "metadata": {
    "collapsed": true
   },
   "outputs": [],
   "source": [
    "dataset = data.copy()"
   ]
  },
  {
   "cell_type": "code",
   "execution_count": 9,
   "metadata": {
    "collapsed": false
   },
   "outputs": [
    {
     "data": {
      "text/html": [
       "<div>\n",
       "<style>\n",
       "    .dataframe thead tr:only-child th {\n",
       "        text-align: right;\n",
       "    }\n",
       "\n",
       "    .dataframe thead th {\n",
       "        text-align: left;\n",
       "    }\n",
       "\n",
       "    .dataframe tbody tr th {\n",
       "        vertical-align: top;\n",
       "    }\n",
       "</style>\n",
       "<table border=\"1\" class=\"dataframe\">\n",
       "  <thead>\n",
       "    <tr style=\"text-align: right;\">\n",
       "      <th></th>\n",
       "      <th>open</th>\n",
       "      <th>high</th>\n",
       "      <th>low</th>\n",
       "      <th>close</th>\n",
       "      <th>open_3_sma</th>\n",
       "      <th>open_7_sma</th>\n",
       "      <th>open_30_sma</th>\n",
       "      <th>wr_7</th>\n",
       "      <th>close_-1_s</th>\n",
       "      <th>close_-1_d</th>\n",
       "      <th>rs_14</th>\n",
       "      <th>rsi_14</th>\n",
       "    </tr>\n",
       "    <tr>\n",
       "      <th>date</th>\n",
       "      <th></th>\n",
       "      <th></th>\n",
       "      <th></th>\n",
       "      <th></th>\n",
       "      <th></th>\n",
       "      <th></th>\n",
       "      <th></th>\n",
       "      <th></th>\n",
       "      <th></th>\n",
       "      <th></th>\n",
       "      <th></th>\n",
       "      <th></th>\n",
       "    </tr>\n",
       "  </thead>\n",
       "  <tbody>\n",
       "    <tr>\n",
       "      <th>2012-12-31</th>\n",
       "      <td>13.45</td>\n",
       "      <td>13.56</td>\n",
       "      <td>13.37</td>\n",
       "      <td>13.51</td>\n",
       "      <td>13.450000</td>\n",
       "      <td>13.450</td>\n",
       "      <td>13.450</td>\n",
       "      <td>26.315789</td>\n",
       "      <td>NaN</td>\n",
       "      <td>NaN</td>\n",
       "      <td>NaN</td>\n",
       "      <td>NaN</td>\n",
       "    </tr>\n",
       "    <tr>\n",
       "      <th>2013-01-01</th>\n",
       "      <td>13.51</td>\n",
       "      <td>13.56</td>\n",
       "      <td>13.16</td>\n",
       "      <td>13.30</td>\n",
       "      <td>13.480000</td>\n",
       "      <td>13.480</td>\n",
       "      <td>13.480</td>\n",
       "      <td>65.000000</td>\n",
       "      <td>13.51</td>\n",
       "      <td>-0.21</td>\n",
       "      <td>0.000000</td>\n",
       "      <td>0.000000</td>\n",
       "    </tr>\n",
       "    <tr>\n",
       "      <th>2013-01-02</th>\n",
       "      <td>13.30</td>\n",
       "      <td>13.40</td>\n",
       "      <td>13.16</td>\n",
       "      <td>13.28</td>\n",
       "      <td>13.420000</td>\n",
       "      <td>13.420</td>\n",
       "      <td>13.420</td>\n",
       "      <td>70.000000</td>\n",
       "      <td>13.30</td>\n",
       "      <td>-0.02</td>\n",
       "      <td>0.000000</td>\n",
       "      <td>0.000000</td>\n",
       "    </tr>\n",
       "    <tr>\n",
       "      <th>2013-01-03</th>\n",
       "      <td>13.28</td>\n",
       "      <td>13.46</td>\n",
       "      <td>13.25</td>\n",
       "      <td>13.40</td>\n",
       "      <td>13.363333</td>\n",
       "      <td>13.385</td>\n",
       "      <td>13.385</td>\n",
       "      <td>40.000000</td>\n",
       "      <td>13.28</td>\n",
       "      <td>0.12</td>\n",
       "      <td>0.601073</td>\n",
       "      <td>37.541899</td>\n",
       "    </tr>\n",
       "    <tr>\n",
       "      <th>2013-01-04</th>\n",
       "      <td>13.40</td>\n",
       "      <td>13.52</td>\n",
       "      <td>13.27</td>\n",
       "      <td>13.50</td>\n",
       "      <td>13.326667</td>\n",
       "      <td>13.388</td>\n",
       "      <td>13.388</td>\n",
       "      <td>15.000000</td>\n",
       "      <td>13.40</td>\n",
       "      <td>0.10</td>\n",
       "      <td>1.140498</td>\n",
       "      <td>53.281903</td>\n",
       "    </tr>\n",
       "  </tbody>\n",
       "</table>\n",
       "</div>"
      ],
      "text/plain": [
       "             open   high    low  close  open_3_sma  open_7_sma  open_30_sma  \\\n",
       "date                                                                          \n",
       "2012-12-31  13.45  13.56  13.37  13.51   13.450000      13.450       13.450   \n",
       "2013-01-01  13.51  13.56  13.16  13.30   13.480000      13.480       13.480   \n",
       "2013-01-02  13.30  13.40  13.16  13.28   13.420000      13.420       13.420   \n",
       "2013-01-03  13.28  13.46  13.25  13.40   13.363333      13.385       13.385   \n",
       "2013-01-04  13.40  13.52  13.27  13.50   13.326667      13.388       13.388   \n",
       "\n",
       "                 wr_7  close_-1_s  close_-1_d     rs_14     rsi_14  \n",
       "date                                                                \n",
       "2012-12-31  26.315789         NaN         NaN       NaN        NaN  \n",
       "2013-01-01  65.000000       13.51       -0.21  0.000000   0.000000  \n",
       "2013-01-02  70.000000       13.30       -0.02  0.000000   0.000000  \n",
       "2013-01-03  40.000000       13.28        0.12  0.601073  37.541899  \n",
       "2013-01-04  15.000000       13.40        0.10  1.140498  53.281903  "
      ]
     },
     "execution_count": 9,
     "metadata": {},
     "output_type": "execute_result"
    }
   ],
   "source": [
    "stock = StockDataFrame.retype(data)\n",
    "stock.get('open_3_sma')\n",
    "stock.get('open_7_sma')\n",
    "stock.get('open_30_sma')\n",
    "stock['wr_7']\n",
    "stock['rsi_14']\n",
    "stock.head()"
   ]
  },
  {
   "cell_type": "markdown",
   "metadata": {
    "collapsed": false
   },
   "source": [
    "dataset['H-L'] = dataset['High'] - dataset['Low']\n",
    "dataset['O-C'] = dataset['Open'] - dataset['Close']\n",
    "dataset['close_3_sma'] = stock.get('close_3_sma')\n",
    "dataset['close_7_sma'] = stock.get('close_7_sma')\n",
    "dataset['close_30_sma'] = stock.get('close_30_sma')\n",
    "dataset['std_dev']= dataset['Close'].rolling(5).std()\n",
    "dataset.tail()\n",
    "#\n",
    "#dataset['Std_dev']= dataset['Close'].rolling(5).std()\n",
    "#dataset['RSI'] = talib.RSI(dataset['Close'].values, timeperiod = 9)\n",
    "#dataset['Williams %R'] = talib.WILLR(dataset['High'].values, dataset['Low'].values, dataset['Close'].values, 7)"
   ]
  },
  {
   "cell_type": "code",
   "execution_count": 10,
   "metadata": {
    "collapsed": false
   },
   "outputs": [],
   "source": [
    "import pandas as pd\n",
    "import numpy as np\n",
    "from sklearn.model_selection import train_test_split\n",
    "from sklearn.linear_model import Lasso "
   ]
  },
  {
   "cell_type": "code",
   "execution_count": 11,
   "metadata": {
    "collapsed": false
   },
   "outputs": [],
   "source": [
    "y = stock['close']\n"
   ]
  },
  {
   "cell_type": "code",
   "execution_count": 12,
   "metadata": {
    "collapsed": true
   },
   "outputs": [],
   "source": [
    "X = stock[['open', 'open_3_sma', 'open_7_sma', 'open_30_sma', 'wr_7', 'rsi_14']]"
   ]
  },
  {
   "cell_type": "code",
   "execution_count": null,
   "metadata": {
    "collapsed": false
   },
   "outputs": [],
   "source": []
  },
  {
   "cell_type": "code",
   "execution_count": 13,
   "metadata": {
    "collapsed": false
   },
   "outputs": [],
   "source": [
    "X_train, X_test, y_train, y_test = train_test_split(X[1:],y[1:],test_size=0.4,random_state=4)"
   ]
  },
  {
   "cell_type": "code",
   "execution_count": 14,
   "metadata": {
    "collapsed": false
   },
   "outputs": [
    {
     "name": "stdout",
     "output_type": "stream",
     "text": [
      "1921\n",
      "1152\n",
      "768\n"
     ]
    }
   ],
   "source": [
    "print(len(X))\n",
    "print(len(X_train))\n",
    "print(len(X_test))"
   ]
  },
  {
   "cell_type": "code",
   "execution_count": 15,
   "metadata": {
    "collapsed": true
   },
   "outputs": [],
   "source": [
    "model = Lasso()"
   ]
  },
  {
   "cell_type": "code",
   "execution_count": 16,
   "metadata": {
    "collapsed": false
   },
   "outputs": [
    {
     "name": "stderr",
     "output_type": "stream",
     "text": [
      "/home/henry/anaconda3/lib/python3.6/site-packages/sklearn/linear_model/coordinate_descent.py:484: ConvergenceWarning: Objective did not converge. You might want to increase the number of iterations. Fitting data with very small alpha may cause precision problems.\n",
      "  ConvergenceWarning)\n"
     ]
    },
    {
     "data": {
      "text/plain": [
       "Lasso(alpha=1.0, copy_X=True, fit_intercept=True, max_iter=1000,\n",
       "   normalize=False, positive=False, precompute=False, random_state=None,\n",
       "   selection='cyclic', tol=0.0001, warm_start=False)"
      ]
     },
     "execution_count": 16,
     "metadata": {},
     "output_type": "execute_result"
    }
   ],
   "source": [
    "model.fit(X_train,y_train)"
   ]
  },
  {
   "cell_type": "code",
   "execution_count": 17,
   "metadata": {
    "collapsed": true
   },
   "outputs": [],
   "source": [
    "predicted = model.predict(X_test)"
   ]
  },
  {
   "cell_type": "code",
   "execution_count": 18,
   "metadata": {
    "collapsed": false
   },
   "outputs": [
    {
     "data": {
      "image/png": "[encoded data removed]",
      "text/plain": [
       "<matplotlib.figure.Figure at 0x7f67f9960860>"
      ]
     },
     "metadata": {},
     "output_type": "display_data"
    }
   ],
   "source": [
    "import matplotlib.pyplot as plt\n",
    "%matplotlib inline\n",
    "\n",
    "plt.hist([predicted, y_test]);"
   ]
  },
  {
   "cell_type": "code",
   "execution_count": 19,
   "metadata": {
    "collapsed": false
   },
   "outputs": [
    {
     "data": {
      "image/png": "[encoded data removed]",
      "text/plain": [
       "<matplotlib.figure.Figure at 0x7f67f99607b8>"
      ]
     },
     "metadata": {},
     "output_type": "display_data"
    }
   ],
   "source": [
    "plt.hist([predicted, y_test], log=True);"
   ]
  },
  {
   "cell_type": "code",
   "execution_count": 20,
   "metadata": {
    "collapsed": false
   },
   "outputs": [
    {
     "data": {
      "text/plain": [
       "0.99510149741320242"
      ]
     },
     "execution_count": 20,
     "metadata": {},
     "output_type": "execute_result"
    }
   ],
   "source": [
    "model.score(X_test,y_test)"
   ]
  },
  {
   "cell_type": "markdown",
   "metadata": {},
   "source": [
    "# Predecir fecha Actual"
   ]
  },
  {
   "cell_type": "code",
   "execution_count": 21,
   "metadata": {
    "collapsed": false
   },
   "outputs": [],
   "source": [
    "data_to_predict.loc[data_to_predict.index[-1]+1] = ['2018-04-05', 6785.90, 6938.8, 6564.9, 6760]"
   ]
  },
  {
   "cell_type": "code",
   "execution_count": 22,
   "metadata": {
    "collapsed": false
   },
   "outputs": [
    {
     "data": {
      "text/html": [
       "<div>\n",
       "<style>\n",
       "    .dataframe thead tr:only-child th {\n",
       "        text-align: right;\n",
       "    }\n",
       "\n",
       "    .dataframe thead th {\n",
       "        text-align: left;\n",
       "    }\n",
       "\n",
       "    .dataframe tbody tr th {\n",
       "        vertical-align: top;\n",
       "    }\n",
       "</style>\n",
       "<table border=\"1\" class=\"dataframe\">\n",
       "  <thead>\n",
       "    <tr style=\"text-align: right;\">\n",
       "      <th></th>\n",
       "      <th>open</th>\n",
       "      <th>high</th>\n",
       "      <th>low</th>\n",
       "      <th>close</th>\n",
       "      <th>open_3_sma</th>\n",
       "      <th>open_7_sma</th>\n",
       "      <th>open_30_sma</th>\n",
       "      <th>wr_7</th>\n",
       "      <th>close_-1_s</th>\n",
       "      <th>close_-1_d</th>\n",
       "      <th>rs_14</th>\n",
       "      <th>rsi_14</th>\n",
       "    </tr>\n",
       "    <tr>\n",
       "      <th>date</th>\n",
       "      <th></th>\n",
       "      <th></th>\n",
       "      <th></th>\n",
       "      <th></th>\n",
       "      <th></th>\n",
       "      <th></th>\n",
       "      <th></th>\n",
       "      <th></th>\n",
       "      <th></th>\n",
       "      <th></th>\n",
       "      <th></th>\n",
       "      <th></th>\n",
       "    </tr>\n",
       "  </thead>\n",
       "  <tbody>\n",
       "    <tr>\n",
       "      <th>2018-04-05</th>\n",
       "      <td>6785.9</td>\n",
       "      <td>6938.8</td>\n",
       "      <td>6564.9</td>\n",
       "      <td>6760.0</td>\n",
       "      <td>6680.853333</td>\n",
       "      <td>6649.9</td>\n",
       "      <td>7448.732333</td>\n",
       "      <td>47.820273</td>\n",
       "      <td>6597.37</td>\n",
       "      <td>162.63</td>\n",
       "      <td>0.616418</td>\n",
       "      <td>38.134825</td>\n",
       "    </tr>\n",
       "  </tbody>\n",
       "</table>\n",
       "</div>"
      ],
      "text/plain": [
       "              open    high     low   close   open_3_sma  open_7_sma  \\\n",
       "date                                                                  \n",
       "2018-04-05  6785.9  6938.8  6564.9  6760.0  6680.853333      6649.9   \n",
       "\n",
       "            open_30_sma       wr_7  close_-1_s  close_-1_d     rs_14  \\\n",
       "date                                                                   \n",
       "2018-04-05  7448.732333  47.820273     6597.37      162.63  0.616418   \n",
       "\n",
       "               rsi_14  \n",
       "date                   \n",
       "2018-04-05  38.134825  "
      ]
     },
     "execution_count": 22,
     "metadata": {},
     "output_type": "execute_result"
    }
   ],
   "source": [
    "data_to_predict = StockDataFrame.retype(data_to_predict)\n",
    "data_to_predict.get('open_3_sma')\n",
    "data_to_predict.get('open_7_sma')\n",
    "data_to_predict.get('open_30_sma')\n",
    "data_to_predict['wr_7']\n",
    "data_to_predict['rsi_14']\n",
    "data_to_predict.tail(1)"
   ]
  },
  {
   "cell_type": "code",
   "execution_count": 23,
   "metadata": {
    "collapsed": false
   },
   "outputs": [
    {
     "data": {
      "text/plain": [
       "array([ 6766.7389295])"
      ]
     },
     "execution_count": 23,
     "metadata": {},
     "output_type": "execute_result"
    }
   ],
   "source": [
    "p = data_to_predict.tail(1)\n",
    "model.predict(p[['open', 'open_3_sma', 'open_7_sma', 'open_30_sma', 'wr_7', 'rsi_14']])"
   ]
  },
  {
   "cell_type": "code",
   "execution_count": null,
   "metadata": {
    "collapsed": true
   },
   "outputs": [],
   "source": []
  }
 ],
 "metadata": {
  "kernelspec": {
   "display_name": "Python 3",
   "language": "python",
   "name": "python3"
  },
  "language_info": {
   "codemirror_mode": {
    "name": "ipython",
    "version": 3
   },
   "file_extension": ".py",
   "mimetype": "text/x-python",
   "name": "python",
   "nbconvert_exporter": "python",
   "pygments_lexer": "ipython3",
   "version": "3.6.0"
  }
 },
 "nbformat": 4,
 "nbformat_minor": 2
}
